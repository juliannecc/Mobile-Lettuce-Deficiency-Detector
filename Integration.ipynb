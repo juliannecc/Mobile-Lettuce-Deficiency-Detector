{
 "cells": [
  {
   "cell_type": "code",
   "execution_count": null,
   "id": "44a8a8cc",
   "metadata": {},
   "outputs": [],
   "source": [
    "import tensorflow as tf \n",
    "\n",
    "img = (input image)\n",
    "\n",
    "segmentation = tf.lite.Interpreter('vggseg.tflite')\n",
    "segmentation.get_input_details()\n",
    "# segmentation.allocate_tensors()\n",
    "# #input_details = segmentation.get_input_details()\n",
    "# #output_details = segmentation.get_output_details()\n",
    "# segmentation_output = segmentation.get_tensor(output_details[0]['index'])\n",
    "\n",
    "# interpreter = tf.lite.Interpreter('MNetSmall.tflite')\n",
    "# interperter.allocate_tensors()\n",
    "# interpreter_output = interpreter.get_tensor(output_details[0]['index'])\n",
    "\n",
    "\n"
   ]
  },
  {
   "cell_type": "code",
   "execution_count": null,
   "id": "d07e24e9",
   "metadata": {},
   "outputs": [],
   "source": []
  }
 ],
 "metadata": {
  "kernelspec": {
   "display_name": "Python 3 (ipykernel)",
   "language": "python",
   "name": "python3"
  },
  "language_info": {
   "codemirror_mode": {
    "name": "ipython",
    "version": 3
   },
   "file_extension": ".py",
   "mimetype": "text/x-python",
   "name": "python",
   "nbconvert_exporter": "python",
   "pygments_lexer": "ipython3",
   "version": "3.9.13"
  }
 },
 "nbformat": 4,
 "nbformat_minor": 5
}
