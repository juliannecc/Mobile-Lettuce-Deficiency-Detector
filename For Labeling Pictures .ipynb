{
 "cells": [
  {
   "cell_type": "code",
   "execution_count": 5,
   "id": "9b4bb2e1",
   "metadata": {},
   "outputs": [],
   "source": [
    "import os"
   ]
  },
  {
   "cell_type": "code",
   "execution_count": 6,
   "id": "eb692359",
   "metadata": {},
   "outputs": [],
   "source": [
    "def main():\n",
    "   \n",
    "    folder = 'dataset/Healthy'\n",
    "    for count, filename in enumerate(os.listdir(folder)):\n",
    "        dst = f\"Healthy_{str(count+1)}.jpg\"\n",
    "        src =f\"{folder}/{filename}\"  \n",
    "        dst =f\"{folder}/{dst}\"\n",
    "\n",
    "        os.rename(src, dst)\n",
    " \n",
    "if __name__ == '__main__':\n",
    "    main()"
   ]
  },
  {
   "cell_type": "code",
   "execution_count": null,
   "id": "48979034",
   "metadata": {},
   "outputs": [],
   "source": []
  }
 ],
 "metadata": {
  "kernelspec": {
   "display_name": "Python 3 (ipykernel)",
   "language": "python",
   "name": "python3"
  },
  "language_info": {
   "codemirror_mode": {
    "name": "ipython",
    "version": 3
   },
   "file_extension": ".py",
   "mimetype": "text/x-python",
   "name": "python",
   "nbconvert_exporter": "python",
   "pygments_lexer": "ipython3",
   "version": "3.8.16"
  }
 },
 "nbformat": 4,
 "nbformat_minor": 5
}
