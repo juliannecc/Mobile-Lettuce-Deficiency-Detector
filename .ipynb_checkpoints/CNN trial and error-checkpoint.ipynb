{
 "cells": [
  {
   "cell_type": "code",
   "execution_count": null,
   "id": "38b0a35b",
   "metadata": {},
   "outputs": [],
   "source": [
    "from tensorflow.keras import layers\n",
    "from tensorflow.keras.applications import ResNet50V2\n",
    "\n",
    "from tensorflow.keras import Model\n",
    "#from tensorflow.keras.applications import MobileNetV3Small\n",
    "from tensorflow.keras.preprocessing.image import ImageDataGenerator\n",
    "from tensorflow.keras.layers import Dense, GlobalAveragePooling2D\n",
    "from tensorflow.keras.optimizers import Adam\n",
    "from sklearn.metrics import confusion_matrix, ConfusionMatrixDisplay\n",
    "import itertools\n",
    "import matplotlib.pyplot as plt\n",
    "import numpy as np"
   ]
  },
  {
   "cell_type": "code",
   "execution_count": null,
   "id": "d3a652f1",
   "metadata": {},
   "outputs": [],
   "source": [
    "#Limit GPU Memory Growth to only what's needed\n",
    "import tensorflow as tf \n",
    "physical_devices = tf.config.list_physical_devices('GPU')\n",
    "\n",
    "try:\n",
    "    tf.config.experimental.set_memory_growth(physical_devices[0], True)\n",
    "except:\n",
    "    print('Failed to limit GPU memory')"
   ]
  },
  {
   "cell_type": "code",
   "execution_count": null,
   "id": "a4b16486",
   "metadata": {},
   "outputs": [],
   "source": [
    "#Gather Pre-proccessed images \n",
    "img_size = 512;\n",
    "\n",
    "train_path = 'dataset-classification/train-segmented'\n",
    "valid_path = 'dataset-classification/validate-segmented'\n",
    "\n",
    "train_generator = ImageDataGenerator().flow_from_directory(train_path, target_size=(img_size,img_size))\n",
    "valid_generator = ImageDataGenerator().flow_from_directory(valid_path, target_size=(img_size,img_size))"
   ]
  },
  {
   "cell_type": "code",
   "execution_count": null,
   "id": "d4d78b10",
   "metadata": {},
   "outputs": [],
   "source": [
    "#Build Model \n",
    "\n",
    "base_model = ResNet50V2(weights='imagenet', include_top = False, input_shape = (img_size,img_size,3))\n",
    "\n",
    "x = base_model.output\n",
    "x = GlobalAveragePooling2D()(x)\n",
    "x = Dense(512, activation='relu')(x)\n",
    "x = Dense(256, activation='relu')(x)\n",
    "x = Dense(128, activation='relu')(x)\n",
    "preds = Dense(3, activation='softmax')(x)\n",
    "\n",
    "model = Model(inputs=base_model.input, outputs = preds)"
   ]
  },
  {
   "cell_type": "code",
   "execution_count": null,
   "id": "bf83bf09",
   "metadata": {},
   "outputs": [],
   "source": [
    "#model.summary()"
   ]
  },
  {
   "cell_type": "code",
   "execution_count": null,
   "id": "a3fbe2f3",
   "metadata": {},
   "outputs": [],
   "source": [
    "for layers in model.layers[:-20]:\n",
    "    layers.trainable = False\n",
    "    "
   ]
  },
  {
   "cell_type": "code",
   "execution_count": null,
   "id": "d2a27dce",
   "metadata": {},
   "outputs": [],
   "source": [
    "model.summary()"
   ]
  },
  {
   "cell_type": "code",
   "execution_count": null,
   "id": "a9c9beb7",
   "metadata": {},
   "outputs": [],
   "source": [
    "epochs = 30\n",
    "\n",
    "optimizer = Adam(learning_rate = 0.0001)\n",
    "\n",
    "model.compile(loss='categorical_crossentropy', optimizer = optimizer, metrics=['accuracy'])\n",
    "\n",
    "history = model.fit(train_generator, validation_data=valid_generator, epochs = epochs, verbose=2)"
   ]
  },
  {
   "cell_type": "code",
   "execution_count": null,
   "id": "3c0f7f68",
   "metadata": {},
   "outputs": [],
   "source": [
    "plt.plot(history.history['accuracy'])\n",
    "plt.plot(history.history['val_accuracy'])\n",
    "plt.title('MobilenetV3Large Train vs Validation Accuracy')\n",
    "plt.ylabel('Accuracy')\n",
    "plt.xlabel('Epoch')\n",
    "plt.legend(['Train','Validation'], loc='upper left')\n",
    "plt.show()"
   ]
  },
  {
   "cell_type": "code",
   "execution_count": null,
   "id": "ef661648",
   "metadata": {},
   "outputs": [],
   "source": [
    "plt.plot(history.history['loss'])\n",
    "plt.plot(history.history['val_loss'])\n",
    "plt.title('MobilenetV3Large Train vs Validation Loss')\n",
    "plt.ylabel('Loss')\n",
    "plt.xlabel('Epoch')\n",
    "plt.legend(['Train','Validation'], loc='upper left')\n",
    "plt.show()"
   ]
  },
  {
   "cell_type": "code",
   "execution_count": null,
   "id": "5d9cb6ff",
   "metadata": {},
   "outputs": [],
   "source": [
    "test_path = 'dataset-classification/test-segmented'\n",
    "test_generator = ImageDataGenerator().flow_from_directory(test_path, target_size=(img_size,img_size))\n",
    "predictions = model.predict(x = test_generator, verbose = 0)"
   ]
  },
  {
   "cell_type": "code",
   "execution_count": null,
   "id": "318b451c",
   "metadata": {},
   "outputs": [],
   "source": [
    "test_labels = test_generator.classes\n",
    "cm = confusion_matrix(y_true=test_labels, y_pred=predictions.argmax(axis=1))\n",
    "test_generator.class_indices"
   ]
  },
  {
   "cell_type": "code",
   "execution_count": null,
   "id": "6fe1a96d",
   "metadata": {},
   "outputs": [],
   "source": [
    "disp = ConfusionMatrixDisplay(confusion_matrix=cm, display_labels=['-K', '-N', 'Healthy'])\n",
    "disp.plot()\n",
    "plt.show()"
   ]
  },
  {
   "cell_type": "code",
   "execution_count": null,
   "id": "cc71759f",
   "metadata": {},
   "outputs": [],
   "source": [
    "from sklearn.metrics import classification_report \n",
    "\n",
    "print(classification_report(test_labels,predictions.argmax(axis=1)))"
   ]
  },
  {
   "cell_type": "code",
   "execution_count": null,
   "id": "1985e291",
   "metadata": {},
   "outputs": [],
   "source": [
    "#model.save(\"EfficientNetB0.h5\")"
   ]
  },
  {
   "cell_type": "code",
   "execution_count": null,
   "id": "2a7a19b2",
   "metadata": {},
   "outputs": [],
   "source": []
  }
 ],
 "metadata": {
  "kernelspec": {
   "display_name": "Python 3 (ipykernel)",
   "language": "python",
   "name": "python3"
  },
  "language_info": {
   "codemirror_mode": {
    "name": "ipython",
    "version": 3
   },
   "file_extension": ".py",
   "mimetype": "text/x-python",
   "name": "python",
   "nbconvert_exporter": "python",
   "pygments_lexer": "ipython3",
   "version": "3.9.13"
  }
 },
 "nbformat": 4,
 "nbformat_minor": 5
}
