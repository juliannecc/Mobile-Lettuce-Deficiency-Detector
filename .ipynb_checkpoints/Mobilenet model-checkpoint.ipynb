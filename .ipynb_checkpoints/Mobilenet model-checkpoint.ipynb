{
 "cells": [
  {
   "cell_type": "code",
   "execution_count": null,
   "id": "e5aa3eae",
   "metadata": {},
   "outputs": [],
   "source": [
    "from tensorflow.keras import Model\n",
    "from tensorflow.keras.applications import MobileNetV3Small\n",
    "from tensorflow.keras.preprocessing.image import ImageDataGenerator\n",
    "from tensorflow.keras.layers import Dense, GlobalAveragePooling2D\n",
    "from tensorflow.keras.optimizers import Adam"
   ]
  },
  {
   "cell_type": "code",
   "execution_count": null,
   "id": "7f342477",
   "metadata": {},
   "outputs": [],
   "source": [
    "#Limit GPU Memory Growth to only what's needed\n",
    "import tensorflow as tf \n",
    "physical_devices = tf.config.list_physical_devices('GPU')\n",
    "\n",
    "try:\n",
    "    tf.config.experimental.set_memory_growth(physical_devices[0], True)\n",
    "except:\n",
    "    print('Failed to limit GPU memory')"
   ]
  },
  {
   "cell_type": "code",
   "execution_count": null,
   "id": "e1736cd2",
   "metadata": {},
   "outputs": [],
   "source": [
    "#Gather Pre-proccessed images \n",
    "\n",
    "#train_path = \n",
    "#valid_path = \n",
    "\n",
    "#train_generator = ImageDataGenerator(preprocessing_function=preprocess_input).flow_from_directory(train_path)\n",
    "#valid_generator = ImageDataGenerator(preprocessing_function=preprocess_input).flow_from_directory(valid_path)\n"
   ]
  },
  {
   "cell_type": "code",
   "execution_count": null,
   "id": "6183a8a9",
   "metadata": {},
   "outputs": [],
   "source": [
    "#Build Model \n",
    "\n",
    "base_model = MobileNetV3Small(weights='imagenet', include_top = False)\n",
    "\n",
    "x = base_model.output\n",
    "x = GlobalAveragePooling2D()(x)\n",
    "x = Dense(512, activation='relu')(x)\n",
    "x = Dense(256, activation='relu')(x)\n",
    "x = Dense(128, activation='relu')(x)\n",
    "preds = Dense(9, activation='softmax')(x)\n",
    "\n",
    "model = Model(inputs=base_model.input, outputs = preds)\n"
   ]
  },
  {
   "cell_type": "code",
   "execution_count": null,
   "id": "8c2b57c4",
   "metadata": {},
   "outputs": [],
   "source": [
    "model.summary()"
   ]
  },
  {
   "cell_type": "code",
   "execution_count": null,
   "id": "c159f737",
   "metadata": {},
   "outputs": [],
   "source": [
    "for layers in model.layers[:-6]:\n",
    "    layers.trainable = False\n",
    "    "
   ]
  },
  {
   "cell_type": "code",
   "execution_count": null,
   "id": "06479407",
   "metadata": {},
   "outputs": [],
   "source": [
    "model.summary()"
   ]
  },
  {
   "cell_type": "code",
   "execution_count": null,
   "id": "dcee35df",
   "metadata": {},
   "outputs": [],
   "source": [
    "epochs = 20\n",
    "\n",
    "optimizer = Adam(learning_rate = 0.0001)\n",
    "\n",
    "model.commpile(loss='categorical_crossentropy', optimizer = optimizer, metrics=['accuracy'])\n",
    "\n",
    "model.fit(train_generator, validation_data=valid_generator"
   ]
  }
 ],
 "metadata": {
  "kernelspec": {
   "display_name": "Python 3 (ipykernel)",
   "language": "python",
   "name": "python3"
  },
  "language_info": {
   "codemirror_mode": {
    "name": "ipython",
    "version": 3
   },
   "file_extension": ".py",
   "mimetype": "text/x-python",
   "name": "python",
   "nbconvert_exporter": "python",
   "pygments_lexer": "ipython3",
   "version": "3.9.13"
  }
 },
 "nbformat": 4,
 "nbformat_minor": 5
}
