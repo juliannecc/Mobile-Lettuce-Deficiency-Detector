{
 "cells": [
  {
   "cell_type": "code",
   "execution_count": 1,
   "id": "304de4ce",
   "metadata": {},
   "outputs": [
    {
     "ename": "SyntaxError",
     "evalue": "invalid syntax (2560855774.py, line 3)",
     "output_type": "error",
     "traceback": [
      "\u001b[1;36m  File \u001b[1;32m\"C:\\Users\\Patrick Formales\\AppData\\Local\\Temp\\ipykernel_16804\\2560855774.py\"\u001b[1;36m, line \u001b[1;32m3\u001b[0m\n\u001b[1;33m    img = (input image)\u001b[0m\n\u001b[1;37m                 ^\u001b[0m\n\u001b[1;31mSyntaxError\u001b[0m\u001b[1;31m:\u001b[0m invalid syntax\n"
     ]
    }
   ],
   "source": [
    "import tensorflow as tf \n",
    "\n",
    "img = (input image)\n",
    "\n",
    "segmentation = tf.lite.Interpreter('vggseg.tflite')\n",
    "segmentation.allocate_tensors()\n",
    "#input_details = segmentation.get_input_details()\n",
    "#output_details = segmentation.get_output_details()\n",
    "segmentation_output = segmentation.get_tensor(output_details[0]['index'])\n",
    "\n",
    "interpreter = tf.lite.Interpreter('MNetSmall.tflite')\n",
    "interperter.allocate_tensors()\n",
    "interpreter_output = interpreter.get_tensor(output_details[0]['index'])\n",
    "\n",
    "\n"
   ]
  },
  {
   "cell_type": "code",
   "execution_count": null,
   "id": "8aec5f80",
   "metadata": {},
   "outputs": [],
   "source": []
  }
 ],
 "metadata": {
  "kernelspec": {
   "display_name": "Python 3 (ipykernel)",
   "language": "python",
   "name": "python3"
  },
  "language_info": {
   "codemirror_mode": {
    "name": "ipython",
    "version": 3
   },
   "file_extension": ".py",
   "mimetype": "text/x-python",
   "name": "python",
   "nbconvert_exporter": "python",
   "pygments_lexer": "ipython3",
   "version": "3.9.13"
  }
 },
 "nbformat": 4,
 "nbformat_minor": 5
}
