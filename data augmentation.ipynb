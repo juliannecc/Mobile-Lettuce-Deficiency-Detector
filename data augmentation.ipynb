{
 "cells": [
  {
   "cell_type": "code",
   "execution_count": null,
   "id": "6ed83daf",
   "metadata": {},
   "outputs": [],
   "source": [
    "import os\n",
    "import random\n",
    "import tensorflow as tf\n",
    "from tensorflow.keras.preprocessing.image import load_img, save_img, img_to_array\n",
    "\n",
    "def random_flip_images(folder_path):\n",
    "    # List all image files in the folder\n",
    "    image_files = [f for f in os.listdir(folder_path) if f.endswith('.jpg') or f.endswith('.png')]\n",
    "    vert = 0;\n",
    "    hori= 0;\n",
    "    for file_name in image_files:\n",
    "        # Load the image\n",
    "        image_path = os.path.join(folder_path, file_name)\n",
    "        image = load_img(image_path)\n",
    "        image_array = img_to_array(image)\n",
    "\n",
    "        # Randomly flip the image horizontally\n",
    "        if random.random() < 0.5:\n",
    "            image_array = tf.image.flip_left_right(image_array)\n",
    "            hori = hori + 1\n",
    "            \n",
    "        else:\n",
    "            image_array = tf.image.flip_up_down(image_array)\n",
    "            vert = vert + 1\n",
    "\n",
    "        # Save the flipped image\n",
    "        flipped_image = tf.keras.preprocessing.image.array_to_img(image_array)\n",
    "        flipped_image.save(os.path.join(folder_path, 'flipped_' + file_name))\n",
    "\n",
    "# Specify the folder path where the images are located\n",
    "folder_path = 'own_dataset/Healthy_noise grain'\n",
    "\n",
    "# Call the function to flip the images\n",
    "random_flip_images(folder_path)"
   ]
  },
  {
   "cell_type": "code",
   "execution_count": null,
   "id": "f3dfb49b",
   "metadata": {},
   "outputs": [],
   "source": []
  }
 ],
 "metadata": {
  "kernelspec": {
   "display_name": "Python 3 (ipykernel)",
   "language": "python",
   "name": "python3"
  },
  "language_info": {
   "codemirror_mode": {
    "name": "ipython",
    "version": 3
   },
   "file_extension": ".py",
   "mimetype": "text/x-python",
   "name": "python",
   "nbconvert_exporter": "python",
   "pygments_lexer": "ipython3",
   "version": "3.9.13"
  }
 },
 "nbformat": 4,
 "nbformat_minor": 5
}
