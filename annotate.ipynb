{
 "cells": [
  {
   "attachments": {},
   "cell_type": "markdown",
   "metadata": {},
   "source": [
    "### Imports"
   ]
  },
  {
   "cell_type": "code",
   "execution_count": 2,
   "metadata": {},
   "outputs": [],
   "source": [
    "from glob import glob\n",
    "import cv2 as cv2\n",
    "import numpy as np\n",
    "from PIL import Image\n",
    "import matplotlib.pyplot as plt\n",
    "import os\n",
    "import re"
   ]
  },
  {
   "attachments": {},
   "cell_type": "markdown",
   "metadata": {},
   "source": [
    "### Annotate Images\n",
    "Generates annotations\n",
    "\n",
    "Code from [image-segmentation-keras issue#282](https://github.com/divamgupta/image-segmentation-keras/issues/282)"
   ]
  },
  {
   "cell_type": "code",
   "execution_count": 7,
   "metadata": {},
   "outputs": [],
   "source": [
    "#Annotation images folder path\n",
    "s_label = glob(\"dataset-segmentation/train-masks/*.png\")\n",
    "\n",
    "#Init annotated images dataset\n",
    "# x_train = np.zeros([len(train_img), 1024, 1024]).astype(\"uint8\")\n",
    "\n",
    "path = 'dataset-segmentation/train-annotations/'\n",
    "\n",
    "#Extract images  \n",
    "for i in range(len(s_label)):\n",
    "    # Read Image\n",
    "    im = cv2.imread(s_label[i])\n",
    "\n",
    "    # Reshape Image\n",
    "    im = cv2.cvtColor(im, cv2.COLOR_BGR2GRAY)\n",
    "    im_arr = np.array(im)\n",
    "    im_arr = np.squeeze(im_arr) \n",
    "\n",
    "    # Change class 255 to class 1\n",
    "    im_arr[im_arr > 254] = 1\n",
    "    # im_arr[im_arr < 127] = 0\n",
    "    # print(np.unique(im_arr))\n",
    "    if len(np.unique(im_arr)) != 2:\n",
    "        print('omg')\n",
    "\n",
    "    # Get file name \n",
    "    f_name = re.findall(r'[^\\/|\\\\]+(?=\\.)',s_label[i])\n",
    "\n",
    "    # if im_arr.shape != (1024,1024):\n",
    "    im_arr = cv2.resize(im_arr, (224,224), interpolation = cv2.INTER_NEAREST)\n",
    "    cv2.imwrite(os.path.join(path , '%s.png' % (f_name[0])), im_arr)\n",
    "    # else:\n",
    "       #  cv2.imwrite(os.path.join(path , '%s.png' % (f_name[0])), im_arr)\n",
    "        \n",
    "    # x_train[i, :, :] = im_arr\n",
    "\n",
    "# # Plot image \n",
    "# plt.figure(1)\n",
    "# plt.imshow(x_train[0,:,:])\n",
    "# plt.title(\"Annotation sample\")\n",
    "# plt.show()\n"
   ]
  },
  {
   "attachments": {},
   "cell_type": "markdown",
   "metadata": {},
   "source": [
    "Image Resized"
   ]
  },
  {
   "cell_type": "code",
   "execution_count": 8,
   "metadata": {},
   "outputs": [],
   "source": [
    "#Annotation images folder path\n",
    "i_label = glob(\"dataset-segmentation/train-images/*.jpg\")\n",
    "\n",
    "#Init annotated images dataset\n",
    "path = 'dataset-segmentation/train-resized/'\n",
    "#Extract images  \n",
    "for i in range(len(i_label)):\n",
    "    # Read Image\n",
    "    im = cv2.imread(i_label[i])\n",
    "\n",
    "    # Get file name \n",
    "    f_name = re.findall(r'[^\\/|\\\\]+(?=\\.)',i_label[i])\n",
    "\n",
    "    # if im.shape != (1024,1024,3):\n",
    "    im = cv2.resize(im, (224,224), interpolation = cv2.INTER_NEAREST)\n",
    "    cv2.imwrite(os.path.join(path , '%s.png' % (f_name[0])), im)\n",
    "    # else:\n",
    "        # cv2.imwrite(os.path.join(path , '%s.png' % (f_name[0])), im)\n",
    "        \n"
   ]
  }
 ],
 "metadata": {
  "kernelspec": {
   "display_name": "segmentation",
   "language": "python",
   "name": "python3"
  },
  "language_info": {
   "codemirror_mode": {
    "name": "ipython",
    "version": 3
   },
   "file_extension": ".py",
   "mimetype": "text/x-python",
   "name": "python",
   "nbconvert_exporter": "python",
   "pygments_lexer": "ipython3",
   "version": "3.10.9"
  },
  "orig_nbformat": 4
 },
 "nbformat": 4,
 "nbformat_minor": 2
}
